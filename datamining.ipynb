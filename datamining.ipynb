{
  "nbformat": 4,
  "nbformat_minor": 0,
  "metadata": {
    "colab": {
      "provenance": [],
      "authorship_tag": "ABX9TyMX1wKSmHNnyPD7uQ29Tg9I",
      "include_colab_link": true
    },
    "kernelspec": {
      "name": "python3",
      "display_name": "Python 3"
    },
    "language_info": {
      "name": "python"
    }
  },
  "cells": [
    {
      "cell_type": "markdown",
      "metadata": {
        "id": "view-in-github",
        "colab_type": "text"
      },
      "source": [
        "<a href=\"https://colab.research.google.com/github/naznmr/DataMining/blob/main/datamining.ipynb\" target=\"_parent\"><img src=\"https://colab.research.google.com/assets/colab-badge.svg\" alt=\"Open In Colab\"/></a>"
      ]
    },
    {
      "cell_type": "code",
      "execution_count": null,
      "metadata": {
        "id": "FsT2c_e5eyDy"
      },
      "outputs": [],
      "source": [
        "import pandas as pd\n",
        "import numpy as np\n",
        "import matplotlib.pyplot as plt\n",
        "from sklearn.ensemble import RandomForestClassifier\n",
        "from sklearn.model_selection import train_test_split, StratifiedKFold, cross_val_score\n",
        "from sklearn.metrics import classification_report, accuracy_score, f1_score, roc_auc_score\n",
        "from imblearn.under_sampling import RandomUnderSampler\n",
        "from imblearn.over_sampling import RandomOverSampler\n",
        "from sklearn.preprocessing import OrdinalEncoder\n",
        "from sklearn.preprocessing import LabelEncoder"
      ]
    },
    {
      "cell_type": "code",
      "source": [
        "from google.colab import drive\n",
        "drive.mount(\"/content/drive\")"
      ],
      "metadata": {
        "colab": {
          "base_uri": "https://localhost:8080/"
        },
        "id": "7VrBdDpwn1GX",
        "outputId": "f0eb09d5-a869-4d24-c0d5-2513439e0bb5"
      },
      "execution_count": null,
      "outputs": [
        {
          "output_type": "stream",
          "name": "stdout",
          "text": [
            "Drive already mounted at /content/drive; to attempt to forcibly remount, call drive.mount(\"/content/drive\", force_remount=True).\n"
          ]
        }
      ]
    },
    {
      "cell_type": "code",
      "source": [
        "# بارگذاری داده‌ها\n",
        "\n",
        "features_df = pd.read_csv(\n",
        "    \"/content/drive/MyDrive/datamining/Current_score.csv\",\n",
        "    encoding = \"cp1252\",\n",
        "    on_bad_lines = \"skip\", # خطا در فایل csv\n",
        "    engine = \"python\" # C\n",
        ")\n",
        "\n",
        "target_df = pd.read_csv(\n",
        "    \"/content/drive/MyDrive/datamining/Current_SCORE_CHURN.csv\",\n",
        "    encoding = \"cp1252\",\n",
        "    on_bad_lines = \"skip\",\n",
        "    engine = \"python\"\n",
        ")"
      ],
      "metadata": {
        "id": "2SHKRFG1oYPm"
      },
      "execution_count": null,
      "outputs": []
    },
    {
      "cell_type": "code",
      "source": [
        "# اطمینان از اینکه هدف فقط یه سری است\n",
        "\n",
        "if target_df.shape[1] == 1:\n",
        "    target_series = target_df.iloc[:, 0]\n",
        "else:\n",
        "    target_series = target_df.squeeze()\n",
        "\n",
        "target_series = target_df[\"churn\"]\n",
        "\n",
        "print(\"توزیع هدف :\")\n",
        "print(target_series.value_counts(normalize = True))\n",
        "\n",
        "print(\"نام ستون‌های ویژگی‌ها : \")\n",
        "print(features_df.columns.tolist())"
      ],
      "metadata": {
        "colab": {
          "base_uri": "https://localhost:8080/"
        },
        "id": "JLKJogBlqpSI",
        "outputId": "e3084aa2-ddb6-46c9-dd74-a3eddbcd9186"
      },
      "execution_count": null,
      "outputs": [
        {
          "output_type": "stream",
          "name": "stdout",
          "text": [
            "توزیع هدف :\n",
            "churn\n",
            "0.0    0.98199\n",
            "1.0    0.01801\n",
            "Name: proportion, dtype: float64\n",
            "نام ستون‌های ویژگی‌ها : \n",
            "['rev_Mean', 'mou_Mean', 'totmrc_Mean', 'da_Mean', 'ovrmou_Mean', 'ovrrev_Mean', 'vceovr_Mean', 'datovr_Mean', 'roam_Mean', 'rev_Range', 'mou_Range', 'totmrc_Range', 'da_Range', 'ovrmou_Range', 'ovrrev_Range', 'vceovr_Range', 'datovr_Range', 'roam_Range', 'change_mou', 'change_rev', 'drop_vce_Mean', 'drop_dat_Mean', 'blck_vce_Mean', 'blck_dat_Mean', 'unan_vce_Mean', 'unan_dat_Mean', 'plcd_vce_Mean', 'plcd_dat_Mean', 'recv_vce_Mean', 'recv_sms_Mean', 'comp_vce_Mean', 'comp_dat_Mean', 'custcare_Mean', 'ccrndmou_Mean', 'cc_mou_Mean', 'inonemin_Mean', 'threeway_Mean', 'mou_cvce_Mean', 'mou_cdat_Mean', 'mou_rvce_Mean', 'owylis_vce_Mean', 'mouowylisv_Mean', 'iwylis_vce_Mean', 'mouiwylisv_Mean', 'peak_vce_Mean', 'peak_dat_Mean', 'mou_peav_Mean', 'mou_pead_Mean', 'opk_vce_Mean', 'opk_dat_Mean', 'mou_opkv_Mean', 'mou_opkd_Mean', 'drop_blk_Mean', 'attempt_Mean', 'complete_Mean', 'callfwdv_Mean', 'callwait_Mean', 'drop_vce_Range', 'drop_dat_Range', 'blck_vce_Range', 'blck_dat_Range', 'unan_vce_Range', 'unan_dat_Range', 'plcd_vce_Range', 'plcd_dat_Range', 'recv_vce_Range', 'recv_sms_Range', 'comp_vce_Range', 'comp_dat_Range', 'custcare_Range', 'ccrndmou_Range', 'cc_mou_Range', 'inonemin_Range', 'threeway_Range', 'mou_cvce_Range', 'mou_cdat_Range', 'mou_rvce_Range', 'owylis_vce_Range', 'mouowylisv_Range', 'iwylis_vce_Range', 'mouiwylisv_Range', 'peak_vce_Range', 'peak_dat_Range', 'mou_peav_Range', 'mou_pead_Range', 'opk_vce_Range', 'opk_dat_Range', 'mou_opkv_Range', 'mou_opkd_Range', 'drop_blk_Range', 'attempt_Range', 'complete_Range', 'callfwdv_Range', 'callwait_Range', 'months', 'uniqsubs', 'actvsubs', 'crtcount', 'new_cell', 'crclscod', 'asl_flag', 'rmcalls', 'rmmou', 'rmrev', 'totcalls', 'totmou', 'totrev', 'adjrev', 'adjmou', 'adjqty', 'avgrev', 'avgmou', 'avgqty', 'avg3mou', 'avg3qty', 'avg3rev', 'avg6mou', 'avg6qty', 'avg6rev', 'REF_QTY', 'tot_ret', 'tot_acpt', 'prizm_social_one', 'div_type', 'csa', 'area', 'dualband', 'refurb_new', 'hnd_price', 'pre_hnd_price', 'phones', 'last_swap', 'models', 'hnd_webcap', 'truck', 'mtrcycle', 'rv', 'occu1', 'ownrent', 'lor', 'dwlltype', 'marital', 'mailordr', 'age1', 'age2', 'wrkwoman', 'mailresp', 'children', 'adults', 'infobase', 'income', 'numbcars', 'cartype', 'HHstatin', 'mailflag', 'solflag', 'dwllsize', 'forgntvl', 'educ1', 'proptype', 'pcowner', 'ethnic', 'kid0_2', 'kid3_5', 'kid6_10', 'kid11_15', 'kid16_17', 'creditcd', 'car_buy', 'retdays', 'eqpdays', 'Customer_ID']\n"
          ]
        }
      ]
    },
    {
      "cell_type": "code",
      "source": [
        "# ادغام داده‌ها\n",
        "\n",
        "full_data = pd.concat([features_df, target_series], axis = 1)"
      ],
      "metadata": {
        "id": "d0NWBm7OrJ7l"
      },
      "execution_count": null,
      "outputs": []
    },
    {
      "cell_type": "code",
      "source": [
        "# تبدیل مقادیر رشته‌ای \"NaN\" به np.nan\n",
        "\n",
        "full_data.replace(\"NaN\", np.nan, inplace = True)"
      ],
      "metadata": {
        "id": "A_O-A3fEsUgN"
      },
      "execution_count": null,
      "outputs": []
    },
    {
      "cell_type": "code",
      "source": [
        "# تعریف لیست مقدارهای ناپدید شده غیر استاندارد\n",
        "\n",
        "missing_tokens = [\"?\", \"NA\", \"N/A\", \"NaN\", \"null\", \"NULL\", \"999\", \"9999\", \"unknown\", \"-1\", \" \", \"\"]"
      ],
      "metadata": {
        "id": "OsdjYUabs1jc"
      },
      "execution_count": null,
      "outputs": []
    },
    {
      "cell_type": "code",
      "source": [
        "# جایگزینی مقدارهای ناپدید شده سفارشی با np.nan\n",
        "\n",
        "full_data = full_data.replace(missing_tokens, np.nan)"
      ],
      "metadata": {
        "id": "dWfFJtWKs-CK"
      },
      "execution_count": null,
      "outputs": []
    },
    {
      "cell_type": "code",
      "source": [
        "# محاسبه درصد مقادیر گمشده در هر ستون\n",
        "\n",
        "missing_pct = full_data.isnull().mean() * 100\n",
        "\n",
        "print(\"ستون‌های دارای missing value به ترتیب درصد : \")\n",
        "print(missing_pct[missing_pct > 0].sort_values(ascending = False))"
      ],
      "metadata": {
        "id": "mFfkDaHUtHIU",
        "colab": {
          "base_uri": "https://localhost:8080/"
        },
        "outputId": "818c0876-f542-40e6-a37c-4b53b0664ef7"
      },
      "execution_count": null,
      "outputs": [
        {
          "output_type": "stream",
          "name": "stdout",
          "text": [
            "ستون‌های دارای missing value به ترتیب درصد : \n",
            "mailflag       98.540132\n",
            "solflag        97.828714\n",
            "wrkwoman       87.184735\n",
            "educ1          86.054263\n",
            "pcowner        81.370600\n",
            "                 ...    \n",
            "avg6qty         0.265076\n",
            "REF_QTY         0.265076\n",
            "retdays         0.265076\n",
            "eqpdays         0.265076\n",
            "Customer_ID     0.265076\n",
            "Length: 172, dtype: float64\n"
          ]
        }
      ]
    },
    {
      "cell_type": "code",
      "source": [
        "# حذف ستون‌هایی که بیش از 30% missing دارند\n",
        "\n",
        "drop_cols = missing_pct[missing_pct > 30].index.tolist()\n",
        "full_data.drop(columns = drop_cols, inplace = True)\n",
        "print(f\"ستون‌های حذف شده به دلیل missing value بالا : {drop_cols}\")"
      ],
      "metadata": {
        "id": "ClSEOx0YuhDe",
        "colab": {
          "base_uri": "https://localhost:8080/"
        },
        "outputId": "3d9a5837-025a-4aa5-829d-96ada925f012"
      },
      "execution_count": null,
      "outputs": [
        {
          "output_type": "stream",
          "name": "stdout",
          "text": [
            "ستون‌های حذف شده به دلیل missing value بالا : ['div_type', 'occu1', 'ownrent', 'dwlltype', 'mailordr', 'wrkwoman', 'mailresp', 'children', 'numbcars', 'cartype', 'HHstatin', 'mailflag', 'solflag', 'dwllsize', 'educ1', 'proptype', 'pcowner']\n"
          ]
        }
      ]
    },
    {
      "cell_type": "code",
      "source": [
        "# برخی ویژگی‌ها که ممکنه صفرها معنی missing داشته باشند\n",
        "\n",
        "zero_as_missing_cols = [\n",
        "    \"hnd_price\", \"pre_hnd_price\", \"income\", \"age1\", \"age2\",\n",
        "    \"avg6mou\", \"avg6qty\", \"avg6rev\", \"avg3mou\", \"avg3qty\",\n",
        "    \"avg3rev\", \"avgrev\", \"avgmou\", \"avgqty\", \"models\",\n",
        "    \"phones\", \"totcalls\", \"totmou\", \"totrev\"\n",
        "]"
      ],
      "metadata": {
        "id": "z8Kgkl_kulhC"
      },
      "execution_count": null,
      "outputs": []
    },
    {
      "cell_type": "code",
      "source": [
        "# تبدیل این ستون‌ها به عددی (اگر رشته بودند)\n",
        "\n",
        "for col in zero_as_missing_cols:\n",
        "    if col in full_data.columns:\n",
        "        full_data[col] = pd.to_numeric(full_data[col], errors = \"coerce\")"
      ],
      "metadata": {
        "id": "UkL38jZZxmKx"
      },
      "execution_count": null,
      "outputs": []
    },
    {
      "cell_type": "code",
      "source": [
        "# حذف یا جایگزینی صفرها بسته به درصد آن‌ها\n",
        "\n",
        "drop_due_to_zero = []\n",
        "threshold_zero = 0.3  # 30 درصد\n",
        "\n",
        "for col in zero_as_missing_cols:\n",
        "    if col in full_data.columns:\n",
        "        zero_ratio = (full_data[col] == 0).mean()\n",
        "        if zero_ratio > threshold_zero:\n",
        "            print(f\"حذف ستون {col} به دلیل درصد زیاد صفر ({zero_ratio:.2%})\")\n",
        "            full_data.drop(columns=col, inplace=True)\n",
        "            drop_due_to_zero.append(col)\n",
        "        else:\n",
        "            median_nonzero = full_data.loc[full_data[col] != 0, col].median()\n",
        "            full_data.loc[full_data[col] == 0, col] = median_nonzero\n",
        "            print(f\"جایگزینی صفرها در ستون {col} با میانه {median_nonzero}\")\n",
        "\n",
        "print(\"ستون‌های حذف شده به خاطر صفرهای زیاد:\", drop_due_to_zero)\n",
        "print(\"شکل نهایی داده‌ها :\", full_data.shape)\n",
        "print(\"ستون‌های باقی‌مانده :\")\n",
        "print(full_data.columns.tolist())"
      ],
      "metadata": {
        "id": "Q_ACfe0Xxpxi",
        "colab": {
          "base_uri": "https://localhost:8080/"
        },
        "outputId": "9b599ec0-fb3b-4287-f41c-9e8d3a379d42"
      },
      "execution_count": null,
      "outputs": [
        {
          "output_type": "stream",
          "name": "stdout",
          "text": [
            "جایگزینی صفرها در ستون hnd_price با میانه 129.99\n",
            "جایگزینی صفرها در ستون pre_hnd_price با میانه 59.99\n",
            "جایگزینی صفرها در ستون income با میانه 6.0\n",
            "جایگزینی صفرها در ستون age1 با میانه 44.0\n",
            "حذف ستون age2 به دلیل درصد زیاد صفر (50.88%)\n",
            "جایگزینی صفرها در ستون avg6mou با میانه 387.0\n",
            "جایگزینی صفرها در ستون avg6qty با میانه 133.0\n",
            "جایگزینی صفرها در ستون avg6rev با میانه 50.0\n",
            "جایگزینی صفرها در ستون avg3mou با میانه 390.0\n",
            "جایگزینی صفرها در ستون avg3qty با میانه 134.0\n",
            "جایگزینی صفرها در ستون avg3rev با میانه 50.0\n",
            "جایگزینی صفرها در ستون avgrev با میانه 50.31\n",
            "جایگزینی صفرها در ستون avgmou با میانه 371.135\n",
            "جایگزینی صفرها در ستون avgqty با میانه 129.52\n",
            "جایگزینی صفرها در ستون models با میانه 1.0\n",
            "جایگزینی صفرها در ستون phones با میانه 1.0\n",
            "جایگزینی صفرها در ستون totcalls با میانه 1789.0\n",
            "جایگزینی صفرها در ستون totmou با میانه 5158.0\n",
            "جایگزینی صفرها در ستون totrev با میانه 788.88\n",
            "ستون‌های حذف شده به خاطر صفرهای زیاد: ['age2']\n",
            "شکل نهایی داده‌ها : (51306, 155)\n",
            "ستون‌های باقی‌مانده :\n",
            "['rev_Mean', 'mou_Mean', 'totmrc_Mean', 'da_Mean', 'ovrmou_Mean', 'ovrrev_Mean', 'vceovr_Mean', 'datovr_Mean', 'roam_Mean', 'rev_Range', 'mou_Range', 'totmrc_Range', 'da_Range', 'ovrmou_Range', 'ovrrev_Range', 'vceovr_Range', 'datovr_Range', 'roam_Range', 'change_mou', 'change_rev', 'drop_vce_Mean', 'drop_dat_Mean', 'blck_vce_Mean', 'blck_dat_Mean', 'unan_vce_Mean', 'unan_dat_Mean', 'plcd_vce_Mean', 'plcd_dat_Mean', 'recv_vce_Mean', 'recv_sms_Mean', 'comp_vce_Mean', 'comp_dat_Mean', 'custcare_Mean', 'ccrndmou_Mean', 'cc_mou_Mean', 'inonemin_Mean', 'threeway_Mean', 'mou_cvce_Mean', 'mou_cdat_Mean', 'mou_rvce_Mean', 'owylis_vce_Mean', 'mouowylisv_Mean', 'iwylis_vce_Mean', 'mouiwylisv_Mean', 'peak_vce_Mean', 'peak_dat_Mean', 'mou_peav_Mean', 'mou_pead_Mean', 'opk_vce_Mean', 'opk_dat_Mean', 'mou_opkv_Mean', 'mou_opkd_Mean', 'drop_blk_Mean', 'attempt_Mean', 'complete_Mean', 'callfwdv_Mean', 'callwait_Mean', 'drop_vce_Range', 'drop_dat_Range', 'blck_vce_Range', 'blck_dat_Range', 'unan_vce_Range', 'unan_dat_Range', 'plcd_vce_Range', 'plcd_dat_Range', 'recv_vce_Range', 'recv_sms_Range', 'comp_vce_Range', 'comp_dat_Range', 'custcare_Range', 'ccrndmou_Range', 'cc_mou_Range', 'inonemin_Range', 'threeway_Range', 'mou_cvce_Range', 'mou_cdat_Range', 'mou_rvce_Range', 'owylis_vce_Range', 'mouowylisv_Range', 'iwylis_vce_Range', 'mouiwylisv_Range', 'peak_vce_Range', 'peak_dat_Range', 'mou_peav_Range', 'mou_pead_Range', 'opk_vce_Range', 'opk_dat_Range', 'mou_opkv_Range', 'mou_opkd_Range', 'drop_blk_Range', 'attempt_Range', 'complete_Range', 'callfwdv_Range', 'callwait_Range', 'months', 'uniqsubs', 'actvsubs', 'crtcount', 'new_cell', 'crclscod', 'asl_flag', 'rmcalls', 'rmmou', 'rmrev', 'totcalls', 'totmou', 'totrev', 'adjrev', 'adjmou', 'adjqty', 'avgrev', 'avgmou', 'avgqty', 'avg3mou', 'avg3qty', 'avg3rev', 'avg6mou', 'avg6qty', 'avg6rev', 'REF_QTY', 'tot_ret', 'tot_acpt', 'prizm_social_one', 'csa', 'area', 'dualband', 'refurb_new', 'hnd_price', 'pre_hnd_price', 'phones', 'last_swap', 'models', 'hnd_webcap', 'truck', 'mtrcycle', 'rv', 'lor', 'marital', 'age1', 'adults', 'infobase', 'income', 'forgntvl', 'ethnic', 'kid0_2', 'kid3_5', 'kid6_10', 'kid11_15', 'kid16_17', 'creditcd', 'car_buy', 'retdays', 'eqpdays', 'Customer_ID', 'churn']\n"
          ]
        }
      ]
    },
    {
      "cell_type": "code",
      "source": [
        "# پر کردن مقادیر گمشده در ستون‌های عددی با میانه\n",
        "\n",
        "# Select only the numeric columns\n",
        "numeric_data = full_data.select_dtypes(include = np.number)\n",
        "\n",
        "# Find the columns within the numeric data that have missing values\n",
        "num_cols_with_missing = numeric_data.columns[numeric_data.isnull().any()]\n",
        "\n",
        "for col in num_cols_with_missing:\n",
        "    median_val = full_data[col].median() # Use the original full_data for median calculation\n",
        "    full_data[col].fillna(median_val, inplace = True)\n",
        "    print(f\"پر کردن missingهای ستون عددی {col} با مقدار میانه {median_val}\")"
      ],
      "metadata": {
        "colab": {
          "base_uri": "https://localhost:8080/"
        },
        "id": "T3NBtNORxtl3",
        "outputId": "210b76f5-f50b-4b85-ccdc-8f91ba5e000b"
      },
      "execution_count": null,
      "outputs": [
        {
          "output_type": "stream",
          "name": "stdout",
          "text": [
            "پر کردن missingهای ستون عددی drop_vce_Mean با مقدار میانه 3.0\n",
            "پر کردن missingهای ستون عددی drop_dat_Mean با مقدار میانه 0.0\n",
            "پر کردن missingهای ستون عددی blck_vce_Mean با مقدار میانه 1.0\n",
            "پر کردن missingهای ستون عددی blck_dat_Mean با مقدار میانه 0.0\n",
            "پر کردن missingهای ستون عددی unan_vce_Mean با مقدار میانه 17.0\n",
            "پر کردن missingهای ستون عددی unan_dat_Mean با مقدار میانه 0.0\n",
            "پر کردن missingهای ستون عددی plcd_vce_Mean با مقدار میانه 107.0\n",
            "پر کردن missingهای ستون عددی plcd_dat_Mean با مقدار میانه 0.0\n",
            "پر کردن missingهای ستون عددی recv_vce_Mean با مقدار میانه 29.0\n",
            "پر کردن missingهای ستون عددی recv_sms_Mean با مقدار میانه 0.0\n",
            "پر کردن missingهای ستون عددی comp_vce_Mean با مقدار میانه 80.667\n",
            "پر کردن missingهای ستون عددی comp_dat_Mean با مقدار میانه 0.0\n",
            "پر کردن missingهای ستون عددی custcare_Mean با مقدار میانه 0.0\n",
            "پر کردن missingهای ستون عددی ccrndmou_Mean با مقدار میانه 0.0\n",
            "پر کردن missingهای ستون عددی cc_mou_Mean با مقدار میانه 0.0\n",
            "پر کردن missingهای ستون عددی inonemin_Mean با مقدار میانه 13.333\n",
            "پر کردن missingهای ستون عددی threeway_Mean با مقدار میانه 0.0\n",
            "پر کردن missingهای ستون عددی mou_cvce_Mean با مقدار میانه 161.1685\n",
            "پر کردن missingهای ستون عددی mou_cdat_Mean با مقدار میانه 0.0\n",
            "پر کردن missingهای ستون عددی mou_rvce_Mean با مقدار میانه 56.59\n",
            "پر کردن missingهای ستون عددی owylis_vce_Mean با مقدار میانه 14.333\n",
            "پر کردن missingهای ستون عددی mouowylisv_Mean با مقدار میانه 13.325\n",
            "پر کردن missingهای ستون عددی iwylis_vce_Mean با مقدار میانه 2.333\n",
            "پر کردن missingهای ستون عددی mouiwylisv_Mean با مقدار میانه 4.2\n",
            "پر کردن missingهای ستون عددی peak_vce_Mean با مقدار میانه 64.0\n",
            "پر کردن missingهای ستون عددی peak_dat_Mean با مقدار میانه 0.0\n",
            "پر کردن missingهای ستون عددی mou_peav_Mean با مقدار میانه 124.05799999999999\n",
            "پر کردن missingهای ستون عددی mou_pead_Mean با مقدار میانه 0.0\n",
            "پر کردن missingهای ستون عددی opk_vce_Mean با مقدار میانه 38.0\n",
            "پر کردن missingهای ستون عددی opk_dat_Mean با مقدار میانه 0.0\n",
            "پر کردن missingهای ستون عددی mou_opkv_Mean با مقدار میانه 86.445\n",
            "پر کردن missingهای ستون عددی mou_opkd_Mean با مقدار میانه 0.0\n",
            "پر کردن missingهای ستون عددی drop_blk_Mean با مقدار میانه 5.667\n",
            "پر کردن missingهای ستون عددی attempt_Mean با مقدار میانه 107.333\n",
            "پر کردن missingهای ستون عددی complete_Mean با مقدار میانه 81.0\n",
            "پر کردن missingهای ستون عددی callfwdv_Mean با مقدار میانه 0.0\n",
            "پر کردن missingهای ستون عددی callwait_Mean با مقدار میانه 0.333\n",
            "پر کردن missingهای ستون عددی drop_vce_Range با مقدار میانه 3.0\n",
            "پر کردن missingهای ستون عددی drop_dat_Range با مقدار میانه 0.0\n",
            "پر کردن missingهای ستون عددی blck_vce_Range با مقدار میانه 2.0\n",
            "پر کردن missingهای ستون عددی blck_dat_Range با مقدار میانه 0.0\n",
            "پر کردن missingهای ستون عددی unan_vce_Range با مقدار میانه 11.0\n",
            "پر کردن missingهای ستون عددی unan_dat_Range با مقدار میانه 0.0\n",
            "پر کردن missingهای ستون عددی plcd_vce_Range با مقدار میانه 44.0\n",
            "پر کردن missingهای ستون عددی plcd_dat_Range با مقدار میانه 0.0\n",
            "پر کردن missingهای ستون عددی recv_vce_Range با مقدار میانه 15.0\n",
            "پر کردن missingهای ستون عددی recv_sms_Range با مقدار میانه 0.0\n",
            "پر کردن missingهای ستون عددی comp_vce_Range با مقدار میانه 32.0\n",
            "پر کردن missingهای ستون عددی comp_dat_Range با مقدار میانه 0.0\n",
            "پر کردن missingهای ستون عددی custcare_Range با مقدار میانه 0.0\n",
            "پر کردن missingهای ستون عددی ccrndmou_Range با مقدار میانه 0.0\n",
            "پر کردن missingهای ستون عددی cc_mou_Range با مقدار میانه 0.0\n",
            "پر کردن missingهای ستون عددی inonemin_Range با مقدار میانه 8.0\n",
            "پر کردن missingهای ستون عددی threeway_Range با مقدار میانه 0.0\n",
            "پر کردن missingهای ستون عددی mou_cvce_Range با مقدار میانه 82.66\n",
            "پر کردن missingهای ستون عددی mou_cdat_Range با مقدار میانه 0.0\n",
            "پر کردن missingهای ستون عددی mou_rvce_Range با مقدار میانه 37.364999999999995\n",
            "پر کردن missingهای ستون عددی owylis_vce_Range با مقدار میانه 9.0\n",
            "پر کردن missingهای ستون عددی mouowylisv_Range با مقدار میانه 10.2\n",
            "پر کردن missingهای ستون عددی iwylis_vce_Range با مقدار میانه 3.0\n",
            "پر کردن missingهای ستون عددی mouiwylisv_Range با مقدار میانه 5.4\n",
            "پر کردن missingهای ستون عددی peak_vce_Range با مقدار میانه 29.0\n",
            "پر کردن missingهای ستون عددی peak_dat_Range با مقدار میانه 0.0\n",
            "پر کردن missingهای ستون عددی mou_peav_Range با مقدار میانه 66.85499999999999\n",
            "پر کردن missingهای ستون عددی mou_pead_Range با مقدار میانه 0.0\n",
            "پر کردن missingهای ستون عددی opk_vce_Range با مقدار میانه 20.0\n",
            "پر کردن missingهای ستون عددی opk_dat_Range با مقدار میانه 0.0\n",
            "پر کردن missingهای ستون عددی mou_opkv_Range با مقدار میانه 56.79\n",
            "پر کردن missingهای ستون عددی mou_opkd_Range با مقدار میانه 0.0\n",
            "پر کردن missingهای ستون عددی drop_blk_Range با مقدار میانه 5.0\n",
            "پر کردن missingهای ستون عددی attempt_Range با مقدار میانه 44.0\n",
            "پر کردن missingهای ستون عددی complete_Range با مقدار میانه 32.0\n",
            "پر کردن missingهای ستون عددی callfwdv_Range با مقدار میانه 0.0\n",
            "پر کردن missingهای ستون عددی callwait_Range با مقدار میانه 1.0\n",
            "پر کردن missingهای ستون عددی months با مقدار میانه 16.0\n",
            "پر کردن missingهای ستون عددی uniqsubs با مقدار میانه 1.0\n",
            "پر کردن missingهای ستون عددی actvsubs با مقدار میانه 1.0\n",
            "پر کردن missingهای ستون عددی totcalls با مقدار میانه 1789.0\n",
            "پر کردن missingهای ستون عددی totmou با مقدار میانه 5158.0\n",
            "پر کردن missingهای ستون عددی totrev با مقدار میانه 788.88\n",
            "پر کردن missingهای ستون عددی adjrev با مقدار میانه 723.27\n",
            "پر کردن missingهای ستون عددی adjmou با مقدار میانه 5077.0\n",
            "پر کردن missingهای ستون عددی adjqty با مقدار میانه 1761.0\n",
            "پر کردن missingهای ستون عددی avgrev با مقدار میانه 50.31\n",
            "پر کردن missingهای ستون عددی avgmou با مقدار میانه 371.135\n",
            "پر کردن missingهای ستون عددی avgqty با مقدار میانه 129.52\n",
            "پر کردن missingهای ستون عددی avg3mou با مقدار میانه 390.0\n",
            "پر کردن missingهای ستون عددی avg3qty با مقدار میانه 134.0\n",
            "پر کردن missingهای ستون عددی avg3rev با مقدار میانه 50.0\n",
            "پر کردن missingهای ستون عددی avg6mou با مقدار میانه 387.0\n",
            "پر کردن missingهای ستون عددی avg6qty با مقدار میانه 133.0\n",
            "پر کردن missingهای ستون عددی avg6rev با مقدار میانه 50.0\n",
            "پر کردن missingهای ستون عددی hnd_price با مقدار میانه 129.99\n",
            "پر کردن missingهای ستون عددی pre_hnd_price با مقدار میانه 59.99\n",
            "پر کردن missingهای ستون عددی phones با مقدار میانه 1.0\n",
            "پر کردن missingهای ستون عددی models با مقدار میانه 1.0\n",
            "پر کردن missingهای ستون عددی truck با مقدار میانه 0.0\n",
            "پر کردن missingهای ستون عددی mtrcycle با مقدار میانه 0.0\n",
            "پر کردن missingهای ستون عددی rv با مقدار میانه 0.0\n",
            "پر کردن missingهای ستون عددی lor با مقدار میانه 5.0\n",
            "پر کردن missingهای ستون عددی age1 با مقدار میانه 44.0\n",
            "پر کردن missingهای ستون عددی adults با مقدار میانه 2.0\n",
            "پر کردن missingهای ستون عددی income با مقدار میانه 6.0\n",
            "پر کردن missingهای ستون عددی forgntvl با مقدار میانه 0.0\n",
            "پر کردن missingهای ستون عددی eqpdays با مقدار میانه 310.0\n",
            "پر کردن missingهای ستون عددی Customer_ID با مقدار میانه 2025721.5\n"
          ]
        },
        {
          "output_type": "stream",
          "name": "stderr",
          "text": [
            "<ipython-input-41-85566696c41c>:11: FutureWarning: A value is trying to be set on a copy of a DataFrame or Series through chained assignment using an inplace method.\n",
            "The behavior will change in pandas 3.0. This inplace method will never work because the intermediate object on which we are setting values always behaves as a copy.\n",
            "\n",
            "For example, when doing 'df[col].method(value, inplace=True)', try using 'df.method({col: value}, inplace=True)' or df[col] = df[col].method(value) instead, to perform the operation inplace on the original object.\n",
            "\n",
            "\n",
            "  full_data[col].fillna(median_val, inplace = True)\n"
          ]
        }
      ]
    },
    {
      "cell_type": "code",
      "source": [
        "# ستون infobase فقط 'M' و NaN داره، حذفش می‌کنیم\n",
        "\n",
        "if \"infobase\" in full_data.columns:\n",
        "    print(full_data[\"infobase\"].value_counts(dropna = False))\n",
        "    full_data.drop(columns = [\"infobase\"], inplace = True)\n",
        "    print(\"ستون 'infobase' حذف شد.\")"
      ],
      "metadata": {
        "colab": {
          "base_uri": "https://localhost:8080/"
        },
        "id": "m995ZHl6x_Bu",
        "outputId": "9641dbd6-a96a-4ba7-8176-b7792da19437"
      },
      "execution_count": null,
      "outputs": [
        {
          "output_type": "stream",
          "name": "stdout",
          "text": [
            "infobase\n",
            "M      40087\n",
            "NaN    11065\n",
            "N        154\n",
            "Name: count, dtype: int64\n",
            "ستون 'infobase' حذف شد.\n"
          ]
        }
      ]
    },
    {
      "cell_type": "code",
      "source": [
        "# پر کردن missingهای چند ستون دسته‌ای (categorical)\n",
        "\n",
        "categorical_fill_map = {\n",
        "    \"prizm_social_one\" : \"Missing\",\n",
        "    \"hnd_webcap\" : \"UNKW\",\n",
        "    \"ethnic\" : \"Missing\",\n",
        "    \"car_buy\" : \"UNKNOWN\",\n",
        "    \"kid0_2\" : \"U\",\n",
        "    \"kid3_5\" : \"U\",\n",
        "    \"kid6_10\" : \"U\",\n",
        "    \"kid11_15\" : \"U\",\n",
        "    \"kid16_17\" : \"U\",\n",
        "    \"marital\" : \"U\"\n",
        "}\n",
        "\n",
        "for cat_col, fill_val in categorical_fill_map.items():\n",
        "    if cat_col in full_data.columns:\n",
        "        full_data[cat_col] = full_data[cat_col].fillna(fill_val)"
      ],
      "metadata": {
        "id": "GO944LMVyKZa"
      },
      "execution_count": null,
      "outputs": []
    },
    {
      "cell_type": "code",
      "source": [
        "# تبدیل مقادیر باینری دسته‌ای به عددی\n",
        "\n",
        "if \"car_buy\" in full_data.columns:\n",
        "    full_data[\"car_buy\"] = full_data[\"car_buy\"].map({\"New\" : 1, \"UNKNOWN\" : 0})\n",
        "\n",
        "for kid_col in [\"kid0_2\", \"kid3_5\", \"kid6_10\", \"kid11_15\", \"kid16_17\"]:\n",
        "    if kid_col in full_data.columns:\n",
        "        full_data[kid_col] = full_data[kid_col].map({\"Y\" : 1, \"U\" : 0})\n",
        "\n",
        "if \"creditcd\" in full_data.columns:\n",
        "    full_data[\"creditcd\"] = full_data[\"creditcd\"].fillna(\"N\").map({\"Y\" : 1, \"N\" : 0})"
      ],
      "metadata": {
        "id": "DgYJwvtcNqKB"
      },
      "execution_count": null,
      "outputs": []
    },
    {
      "cell_type": "code",
      "source": [
        "# آماده‌سازی برای مدل\n",
        "\n",
        "X_data = full_data.drop(columns = [\"churn\", \"Customer_ID\"], errors = \"ignore\")\n",
        "y_data = full_data[\"churn\"]\n",
        "\n",
        "print(\"توزیع کلاس‌ها قبل از نمونه‌گیری :\")\n",
        "print(y_data.value_counts(normalize = True))"
      ],
      "metadata": {
        "colab": {
          "base_uri": "https://localhost:8080/"
        },
        "id": "-piG80ZsUDKO",
        "outputId": "185f7f9c-1a5e-4009-bf2a-77e7fd797b91"
      },
      "execution_count": null,
      "outputs": [
        {
          "output_type": "stream",
          "name": "stdout",
          "text": [
            "توزیع کلاس‌ها قبل از نمونه‌گیری :\n",
            "churn\n",
            "0.0    0.98199\n",
            "1.0    0.01801\n",
            "Name: proportion, dtype: float64\n"
          ]
        }
      ]
    },
    {
      "cell_type": "code",
      "source": [
        "# Over-sampling برای رفع imbalance\n",
        "\n",
        "ros = RandomOverSampler(sampling_strategy='not majority', random_state=42)\n",
        "X_resampled, y_resampled = ros.fit_resample(X_data, y_data)\n",
        "\n",
        "print(\"توزیع کلاس‌ها بعد از Over-sampling:\")\n",
        "print(y_resampled.value_counts(normalize=True))"
      ],
      "metadata": {
        "colab": {
          "base_uri": "https://localhost:8080/"
        },
        "id": "2r6LUkOP0B7E",
        "outputId": "e64ef5ae-a927-4f41-e67a-33e9cbd7834d"
      },
      "execution_count": null,
      "outputs": [
        {
          "output_type": "stream",
          "name": "stdout",
          "text": [
            "توزیع کلاس‌ها بعد از Over-sampling:\n",
            "churn\n",
            "0.0    0.5\n",
            "1.0    0.5\n",
            "Name: proportion, dtype: float64\n"
          ]
        }
      ]
    },
    {
      "cell_type": "code",
      "source": [
        "X_encoded = X_resampled.copy()\n",
        "for col in X_encoded.select_dtypes(include='object').columns:\n",
        "    le = LabelEncoder()\n",
        "    X_encoded[col] = le.fit_transform(X_encoded[col])"
      ],
      "metadata": {
        "id": "JFGdPJBe0b51"
      },
      "execution_count": null,
      "outputs": []
    },
    {
      "cell_type": "code",
      "source": [
        "# مدل رندوم فارست با cross-validation\n",
        "\n",
        "# جایگزینی inf با NaN\n",
        "X_encoded = X_encoded.replace([np.inf, -np.inf], np.nan)\n",
        "\n",
        "# پر کردن NaN با میانه ستون‌ها\n",
        "na_cols = X_encoded.columns[X_encoded.isnull().any()]\n",
        "for col in na_cols:\n",
        "    X_encoded[col].fillna(X_encoded[col].median(), inplace=True)\n",
        "\n",
        "# تبدیل dtype برای کاهش مصرف حافظه\n",
        "for col in X_encoded.select_dtypes(include=['float64']).columns:\n",
        "    X_encoded[col] = X_encoded[col].astype('float32')\n",
        "\n",
        "for col in X_encoded.select_dtypes(include=['int64']).columns:\n",
        "    X_encoded[col] = X_encoded[col].astype('int32')\n",
        "\n",
        "# نمونه‌گیری ۲۰٪ داده برای اجرای سریع (اختیاری)\n",
        "sample_frac = 0.2\n",
        "X_sample = X_encoded.sample(frac=sample_frac, random_state=42)\n",
        "y_sample = y_resampled.loc[X_sample.index]\n",
        "\n",
        "# مدل رندوم فارست با تعداد درخت کمتر و استفاده از همه هسته‌های CPU\n",
        "rf_model = RandomForestClassifier(n_estimators=50, random_state=42, n_jobs=-1)\n",
        "\n",
        "cv = StratifiedKFold(n_splits=5, shuffle=True, random_state=42)\n",
        "\n",
        "\n",
        "\n",
        "auc_scores = cross_val_score(rf_model, X_encoded, y_resampled, cv=cv, scoring='roc_auc')\n",
        "\n",
        "print(\"امتیازهای ROC-AUC در Cross Validation:\")\n",
        "print(auc_scores)\n",
        "print(\"میانگین امتیاز ROC-AUC:\", auc_scores.mean())"
      ],
      "metadata": {
        "colab": {
          "base_uri": "https://localhost:8080/"
        },
        "id": "4x2Hou3nU2El",
        "outputId": "3b4c040e-0ef8-4432-a810-41c25488614f"
      },
      "execution_count": null,
      "outputs": [
        {
          "output_type": "stream",
          "name": "stdout",
          "text": [
            "امتیازهای ROC-AUC در Cross Validation:\n",
            "[0.99999828 0.99999837 0.99999846 0.99999857 0.99999815]\n",
            "میانگین امتیاز ROC-AUC: 0.9999983680274657\n"
          ]
        }
      ]
    },
    {
      "cell_type": "code",
      "source": [
        "# Over-sampling برای رفع imbalance\n",
        "\n",
        "ros = RandomOverSampler(sampling_strategy = \"not majority\", random_state = 42)\n",
        "X_resampled, y_resampled = ros.fit_resample(X_data, y_data)\n",
        "\n",
        "print(\"توزیع کلاس‌ها بعد از Over-sampling :\")\n",
        "print(y_resampled.value_counts(normalize = True))"
      ],
      "metadata": {
        "colab": {
          "base_uri": "https://localhost:8080/"
        },
        "id": "bJtg1kj6UHI9",
        "outputId": "2da427f1-f2c6-42b5-8e8f-4b295794d053"
      },
      "execution_count": null,
      "outputs": [
        {
          "output_type": "stream",
          "name": "stdout",
          "text": [
            "توزیع کلاس‌ها بعد از Over-sampling :\n",
            "churn\n",
            "0.0    0.5\n",
            "1.0    0.5\n",
            "Name: proportion, dtype: float64\n"
          ]
        }
      ]
    },
    {
      "cell_type": "code",
      "source": [
        "# --------- آموزش مدل و ارزیابی نهایی ---------\n",
        "\n",
        "X_train, X_test, y_train, y_test = train_test_split(\n",
        "    X_encoded, y_resampled, test_size=0.3, stratify=y_resampled, random_state=42)\n",
        "\n",
        "rf_final = RandomForestClassifier(\n",
        "    n_estimators=100,\n",
        "    max_depth=8,\n",
        "    min_samples_split=10,\n",
        "    min_samples_leaf=5,\n",
        "    class_weight='balanced_subsample',\n",
        "    random_state=42\n",
        ")\n",
        "\n",
        "rf_final.fit(X_train, y_train)\n",
        "\n",
        "y_pred = rf_final.predict(X_test)\n",
        "y_prob = rf_final.predict_proba(X_test)[:, 1]\n",
        "\n",
        "print(\"Accuracy (train):\", rf_final.score(X_train, y_train))\n",
        "print(\"Accuracy (test):\", accuracy_score(y_test, y_pred))\n",
        "print(\"F1 score (train):\", f1_score(y_train, rf_final.predict(X_train)))\n",
        "print(\"F1 score (test):\", f1_score(y_test, y_pred))\n",
        "print(\"ROC AUC (test):\", roc_auc_score(y_test, y_prob))\n",
        "\n",
        "print(\"\\nگزارش طبقه‌بندی (test):\")\n",
        "print(classification_report(y_test, y_pred))"
      ],
      "metadata": {
        "colab": {
          "base_uri": "https://localhost:8080/"
        },
        "id": "cAS5HW9wYW0C",
        "outputId": "219ef64d-8103-4499-a918-d5c88081b030"
      },
      "execution_count": null,
      "outputs": [
        {
          "output_type": "stream",
          "name": "stdout",
          "text": [
            "Accuracy (train): 0.8818725720928914\n",
            "Accuracy (test): 0.8757525636784651\n",
            "F1 score (train): 0.8918568128131247\n",
            "F1 score (test): 0.8864296081277213\n",
            "ROC AUC (test): 0.966515969911569\n",
            "\n",
            "گزارش طبقه‌بندی (test):\n",
            "              precision    recall  f1-score   support\n",
            "\n",
            "         0.0       0.96      0.78      0.86     15115\n",
            "         1.0       0.82      0.97      0.89     15115\n",
            "\n",
            "    accuracy                           0.88     30230\n",
            "   macro avg       0.89      0.88      0.87     30230\n",
            "weighted avg       0.89      0.88      0.87     30230\n",
            "\n"
          ]
        }
      ]
    },
    {
      "cell_type": "code",
      "source": [
        "# نمایش گرافیکی\n",
        "\n",
        "plt.figure(figsize=(8,5))\n",
        "plt.bar(['Train Accuracy', 'Test Accuracy', 'Train F1', 'Test F1'],\n",
        "        [rf_final.score(X_train, y_train), accuracy_score(y_test, y_pred),\n",
        "         f1_score(y_train, rf_final.predict(X_train)), f1_score(y_test, y_pred)],\n",
        "        color=['purple', 'pink', 'purple', 'pink'])\n",
        "plt.ylim(0, 1)\n",
        "plt.title('مقایسه عملکرد مدل روی داده‌های آموزش و تست')\n",
        "plt.show()"
      ],
      "metadata": {
        "colab": {
          "base_uri": "https://localhost:8080/",
          "height": 452
        },
        "id": "VkUX4hCiYqad",
        "outputId": "1bce9509-3a28-43b1-8f64-010cc376e460"
      },
      "execution_count": null,
      "outputs": [
        {
          "output_type": "display_data",
          "data": {
            "text/plain": [
              "<Figure size 800x500 with 1 Axes>"
            ],
            "image/png": "[encoded data removed]"
          },
          "metadata": {}
        }
      ]
    }
  ]
}